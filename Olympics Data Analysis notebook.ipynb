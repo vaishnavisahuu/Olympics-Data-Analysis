{
 "cells": [
  {
   "cell_type": "markdown",
   "metadata": {},
   "source": [
    "# Problem Statement\n",
    "<!-- The Olympic Games, considered to be the world's foremost sports competition has more than 200 nations participating across the Summer and Winter Games alternating by occurring every four years but two years apart.\n",
    "\n",
    "Throughout this project, we will explore the Olympics dataset(scraped from https://en.wikipedia.org/wiki/All-time_Olympic_Games_medal_table), look at some interesting statistics and then try to find out which country is the King of the Olympic Games. -->"
   ]
  },
  {
   "cell_type": "code",
   "execution_count": 1,
   "metadata": {},
   "outputs": [],
   "source": [
    "# The Olympic Games, considered to be the world's foremost sports competition has more than 200 nations participating \n",
    "# across the Summer and Winter Games alternating by occurring every four years but two years apart.\n",
    "\n",
    "# Throughout this project, we will explore the Olympics\n",
    "# dataset(scraped from https://en.wikipedia.org/wiki/All-time_Olympic_Games_medal_table),\n",
    "# look at some interesting statistics and then try to find out which country is the King of the Olympic Games."
   ]
  },
  {
   "cell_type": "code",
   "execution_count": 14,
   "metadata": {},
   "outputs": [
    {
     "name": "stdout",
     "output_type": "stream",
     "text": [
      "  Country_Name  # Summer  Gold_Summer  Silver_Summer  Bronze_Summer  \\\n",
      "0  Afghanistan        13            0              0              2   \n",
      "1      Algeria        12            5              2              8   \n",
      "2    Argentina        23           18             24             28   \n",
      "3      Armenia         5            1              2              9   \n",
      "4  Australasia         2            3              4              5   \n",
      "\n",
      "   Total_Summer  # Winter  Gold_Winter  Silver_Winter  Bronze_Winter  \\\n",
      "0             2         0            0              0              0   \n",
      "1            15         3            0              0              0   \n",
      "2            70        18            0              0              0   \n",
      "3            12         6            0              0              0   \n",
      "4            12         0            0              0              0   \n",
      "\n",
      "   Total_Winter  # Games  Gold_Total  Silver_Total  Bronze_Total  Total_Medals  \n",
      "0             0       13           0             0             2             2  \n",
      "1             0       15           5             2             8            15  \n",
      "2             0       41          18            24            28            70  \n",
      "3             0       11           1             2             9            12  \n",
      "4             0        2           3             4             5            12  \n"
     ]
    }
   ],
   "source": [
    "#Importing header files\n",
    "import pandas as pd\n",
    "import numpy as np\n",
    "import matplotlib.pyplot as plt\n",
    "\n",
    "#Path of the file is stored in the variable path. \n",
    "\n",
    "\n",
    "#Code starts here\n",
    "\n",
    "# Data Loading\n",
    "\n",
    "#Reading the file\n",
    "data=pd.read_csv(\"OlympicsDataset.csv\")\n",
    "\n",
    "#Renaming a column\n",
    "data.rename(columns={'Total':'Total_Medals'},inplace=True)\n",
    "\n",
    "#Printing the first five columns\n",
    "print(data.head(5))\n",
    "\n"
   ]
  },
  {
   "cell_type": "code",
   "execution_count": 13,
   "metadata": {},
   "outputs": [
    {
     "name": "stdout",
     "output_type": "stream",
     "text": [
      "Better_Event= Summer\n"
     ]
    }
   ],
   "source": [
    "# Summer or Winter\n",
    "\n",
    "#Creating new column 'Better_Event'\n",
    "data['Better_Event'] = np.where(data['Total_Summer'] > data['Total_Winter'] , 'Summer', 'Winter')\n",
    "data['Better_Event'] = np.where(data['Total_Summer'] == data['Total_Winter'] , 'Both', data['Better_Event'])\n",
    "\n",
    "#Finding the value with max count in 'Better_Event' column\n",
    "better_event=data['Better_Event'].value_counts().index.values[0]\n",
    "\n",
    "#Printing the better event\n",
    "print('Better_Event=', better_event)"
   ]
  },
  {
   "cell_type": "code",
   "execution_count": 12,
   "metadata": {},
   "outputs": [
    {
     "name": "stdout",
     "output_type": "stream",
     "text": [
      "Top 10 Summer:\n",
      " ['United States', 'Soviet Union', 'Great Britain', 'France', 'Germany', 'Italy', 'Sweden', 'Hungary', 'China', 'Australia'] \n",
      "\n",
      "Top 10 Winter:\n",
      " ['Norway', 'United States', 'Austria', 'Germany', 'Soviet Union', 'Canada', 'Finland', 'Sweden', 'Switzerland', 'Russia'] \n",
      "\n",
      "Top 10:\n",
      " ['United States', 'Soviet Union', 'Great Britain', 'Germany', 'France', 'Italy', 'Sweden', 'China', 'East Germany', 'Russia'] \n",
      "\n",
      "Common Countries :\n",
      " ['Germany', 'United States', 'Soviet Union', 'Sweden'] \n",
      "\n"
     ]
    }
   ],
   "source": [
    "# Top 10\n",
    "\n",
    "#Subsetting the dataframe\n",
    "top_countries=data[['Country_Name','Total_Summer', 'Total_Winter','Total_Medals']]\n",
    "\n",
    "#Dropping the last row\n",
    "top_countries=top_countries[:-1]\n",
    "\n",
    "#Function for top 10\n",
    "def top_ten(data, col):\n",
    "    \n",
    "    #Creating a new list\n",
    "    country_list=[]\n",
    "    \n",
    "    #Finding the top 10 values of 'col' column\n",
    "    country_list= list((data.nlargest(10,col)['Country_Name']))\n",
    "    \n",
    "    #Returning the top 10 list\n",
    "    return country_list\n",
    "\n",
    "\n",
    "\n",
    "#Calling the function for Top 10 in Summer\n",
    "top_10_summer=top_ten(top_countries,'Total_Summer')\n",
    "print(\"Top 10 Summer:\\n\",top_10_summer, \"\\n\")\n",
    "\n",
    "#Calling the function for Top 10 in Winter\n",
    "top_10_winter=top_ten(top_countries,'Total_Winter')\n",
    "print(\"Top 10 Winter:\\n\",top_10_winter, \"\\n\")\n",
    "\n",
    "#Calling the function for Top 10 in both the events\n",
    "top_10=top_ten(top_countries,'Total_Medals')\n",
    "print(\"Top 10:\\n\",top_10, \"\\n\")\n",
    "\n",
    "#Extracting common country names from all three lists\n",
    "common=list(set(top_10_summer) & set(top_10_winter) & set(top_10))\n",
    "\n",
    "print('Common Countries :\\n', common, \"\\n\")"
   ]
  },
  {
   "cell_type": "code",
   "execution_count": 11,
   "metadata": {},
   "outputs": [
    {
     "data": {
      "text/plain": [
       "Text(0, 0.5, 'Total Medals')"
      ]
     },
     "execution_count": 11,
     "metadata": {},
     "output_type": "execute_result"
    },
    {
     "data": {
      "image/png": "[encoded data removed]",
      "text/plain": [
       "<Figure size 1440x432 with 1 Axes>"
      ]
     },
     "metadata": {
      "needs_background": "light"
     },
     "output_type": "display_data"
    }
   ],
   "source": [
    "# Plotting Top 10\n",
    "#For Summer\n",
    "\n",
    "#Creating the dataframe for Summer event\n",
    "summer_df= data[data['Country_Name'].isin(top_10_summer)]\n",
    "\n",
    "#Plotting the bar graph\n",
    "plt.figure(figsize=(20, 6))\n",
    "plt.bar(summer_df['Country_Name'], summer_df['Total_Summer'])\n",
    "\n",
    "#Changing the graph title\n",
    "plt.title('Top 10 Summer')\n",
    "\n",
    "#Changing the x-axis label\n",
    "plt.xlabel('Country Name')\n",
    "\n",
    "#Changing the y-axis label\n",
    "plt.ylabel('Total Medals')\n"
   ]
  },
  {
   "cell_type": "code",
   "execution_count": 10,
   "metadata": {},
   "outputs": [
    {
     "data": {
      "text/plain": [
       "Text(0, 0.5, 'Total Medals')"
      ]
     },
     "execution_count": 10,
     "metadata": {},
     "output_type": "execute_result"
    },
    {
     "data": {
      "image/png": "[encoded data removed]",
      "text/plain": [
       "<Figure size 1440x432 with 1 Axes>"
      ]
     },
     "metadata": {
      "needs_background": "light"
     },
     "output_type": "display_data"
    }
   ],
   "source": [
    "\n",
    "#For Winter\n",
    "\n",
    "#Creating the dataframe for Winter event\n",
    "winter_df=data[data['Country_Name'].isin(top_10_winter)]\n",
    "\n",
    "#Plotting the bar graph\n",
    "plt.figure(figsize=(20, 6))\n",
    "plt.bar(winter_df['Country_Name'], winter_df['Total_Winter'])\n",
    "\n",
    "#Changing the graph title\n",
    "plt.title('Top 10 Winter')\n",
    "\n",
    "#Changing the x-axis label\n",
    "plt.xlabel('Country Name')\n",
    "\n",
    "#Changing the y-axis label\n",
    "plt.ylabel('Total Medals')\n"
   ]
  },
  {
   "cell_type": "code",
   "execution_count": 9,
   "metadata": {},
   "outputs": [
    {
     "data": {
      "text/plain": [
       "Text(0, 0.5, 'Total Medals')"
      ]
     },
     "execution_count": 9,
     "metadata": {},
     "output_type": "execute_result"
    },
    {
     "data": {
      "image/png": "[encoded data removed]",
      "text/plain": [
       "<Figure size 1440x432 with 1 Axes>"
      ]
     },
     "metadata": {
      "needs_background": "light"
     },
     "output_type": "display_data"
    }
   ],
   "source": [
    "\n",
    "#For both the events\n",
    "\n",
    "#Creating the dataframe for both the events\n",
    "top_df=data[data['Country_Name'].isin(top_10)]\n",
    "\n",
    "#Plotting the bar graph\n",
    "plt.figure(figsize=(20, 6))\n",
    "plt.bar(top_df['Country_Name'], top_df['Total_Medals'])\n",
    "\n",
    "#Changing the graph title\n",
    "plt.title('Top 10')\n",
    "\n",
    "#Changing the x-axis label\n",
    "plt.xlabel('Country Name')\n",
    "\n",
    "#Changing the y-axis label\n",
    "plt.ylabel('Total Medals')"
   ]
  },
  {
   "cell_type": "code",
   "execution_count": 8,
   "metadata": {},
   "outputs": [
    {
     "name": "stdout",
     "output_type": "stream",
     "text": [
      "Top Summer Country: China  with a ratio of 0.42\n"
     ]
    },
    {
     "name": "stderr",
     "output_type": "stream",
     "text": [
      "<ipython-input-8-0afb460a4756>:6: SettingWithCopyWarning: \n",
      "A value is trying to be set on a copy of a slice from a DataFrame.\n",
      "Try using .loc[row_indexer,col_indexer] = value instead\n",
      "\n",
      "See the caveats in the documentation: https://pandas.pydata.org/pandas-docs/stable/user_guide/indexing.html#returning-a-view-versus-a-copy\n",
      "  summer_df['Golden_Ratio']=summer_df['Gold_Summer']/summer_df['Total_Summer']\n"
     ]
    }
   ],
   "source": [
    "\n",
    "# Top Performing countries\n",
    "\n",
    "#For Summer List\n",
    "\n",
    "#Creating new column 'Golden_Ratio'\n",
    "summer_df['Golden_Ratio']=summer_df['Gold_Summer']/summer_df['Total_Summer']\n",
    "\n",
    "\n",
    "#Finding the max value of 'Golden_Ratio' column\n",
    "summer_max_ratio=max(summer_df['Golden_Ratio'])\n",
    "\n",
    "#Finding the country assosciated with the max value of 'Golden_Ratio' column\n",
    "summer_country_gold=summer_df.loc[summer_df['Golden_Ratio'].idxmax(),'Country_Name']\n",
    "\n",
    "print(\"Top Summer Country:\", summer_country_gold, \" with a ratio of %.2f\" %summer_max_ratio )\n"
   ]
  },
  {
   "cell_type": "code",
   "execution_count": 7,
   "metadata": {},
   "outputs": [
    {
     "name": "stdout",
     "output_type": "stream",
     "text": [
      "Top Winter Country: Soviet Union  with a ratio of 0.40\n"
     ]
    },
    {
     "name": "stderr",
     "output_type": "stream",
     "text": [
      "<ipython-input-7-90bc9dc273ce>:4: SettingWithCopyWarning: \n",
      "A value is trying to be set on a copy of a slice from a DataFrame.\n",
      "Try using .loc[row_indexer,col_indexer] = value instead\n",
      "\n",
      "See the caveats in the documentation: https://pandas.pydata.org/pandas-docs/stable/user_guide/indexing.html#returning-a-view-versus-a-copy\n",
      "  winter_df['Golden_Ratio']=winter_df['Gold_Winter']/winter_df['Total_Winter']\n"
     ]
    }
   ],
   "source": [
    "#For Winter List\n",
    "\n",
    "#Creating new column 'Golden_Ratio'\n",
    "winter_df['Golden_Ratio']=winter_df['Gold_Winter']/winter_df['Total_Winter']\n",
    "\n",
    "\n",
    "#Finding the max value of 'Golden_Ratio' column\n",
    "winter_max_ratio=max(winter_df['Golden_Ratio'])\n",
    "\n",
    "#Finding the country assosciated with the max value of 'Golden_Ratio' column\n",
    "winter_country_gold=winter_df.loc[winter_df['Golden_Ratio'].idxmax(),'Country_Name']\n",
    "\n",
    "print(\"Top Winter Country:\", winter_country_gold, \" with a ratio of %.2f\" %winter_max_ratio )\n"
   ]
  },
  {
   "cell_type": "code",
   "execution_count": 6,
   "metadata": {},
   "outputs": [
    {
     "name": "stdout",
     "output_type": "stream",
     "text": [
      "Top Country: China  with a ratio of 0.40\n"
     ]
    },
    {
     "name": "stderr",
     "output_type": "stream",
     "text": [
      "<ipython-input-6-a6b82023f909>:4: SettingWithCopyWarning: \n",
      "A value is trying to be set on a copy of a slice from a DataFrame.\n",
      "Try using .loc[row_indexer,col_indexer] = value instead\n",
      "\n",
      "See the caveats in the documentation: https://pandas.pydata.org/pandas-docs/stable/user_guide/indexing.html#returning-a-view-versus-a-copy\n",
      "  top_df['Golden_Ratio']=top_df['Gold_Total']/top_df['Total_Medals']\n"
     ]
    }
   ],
   "source": [
    "\n",
    "#For Overall List\n",
    "\n",
    "#Creating new column 'Golden_Ratio'\n",
    "top_df['Golden_Ratio']=top_df['Gold_Total']/top_df['Total_Medals']\n",
    "\n",
    "#Finding the max value of 'Golden_Ratio' column\n",
    "top_max_ratio=max(top_df['Golden_Ratio'])\n",
    "\n",
    "#Finding the country assosciated with the max value of 'Golden_Ratio' column\n",
    "top_country_gold=top_df.loc[top_df['Golden_Ratio'].idxmax(),'Country_Name']\n",
    "\n",
    "print(\"Top Country:\", top_country_gold, \" with a ratio of %.2f\" %top_max_ratio )\n"
   ]
  },
  {
   "cell_type": "code",
   "execution_count": 5,
   "metadata": {},
   "outputs": [
    {
     "name": "stdout",
     "output_type": "stream",
     "text": [
      "The maximum points achieved is  5684  by  United States\n"
     ]
    },
    {
     "name": "stderr",
     "output_type": "stream",
     "text": [
      "<ipython-input-5-e1b7dc092ad2>:7: SettingWithCopyWarning: \n",
      "A value is trying to be set on a copy of a slice from a DataFrame.\n",
      "Try using .loc[row_indexer,col_indexer] = value instead\n",
      "\n",
      "See the caveats in the documentation: https://pandas.pydata.org/pandas-docs/stable/user_guide/indexing.html#returning-a-view-versus-a-copy\n",
      "  data_1['Total_Points']= data_1['Gold_Total']*3 + data_1['Silver_Total']*2 + data_1['Bronze_Total']*1  # Use of position index to handle the ambiguity of having same name columns\n"
     ]
    }
   ],
   "source": [
    "# Best in the world\n",
    "\n",
    "#Removing the last column of the dataframe\n",
    "data_1=data[:-1]\n",
    "\n",
    "#Creating a new column 'Total_Points'\n",
    "data_1['Total_Points']= data_1['Gold_Total']*3 + data_1['Silver_Total']*2 + data_1['Bronze_Total']*1  # Use of position index to handle the ambiguity of having same name columns\n",
    "\n",
    "\n",
    "#Finding the maximum value of 'Total_Points' column\n",
    "most_points=max(data_1['Total_Points'])\n",
    "\n",
    "#Finding the country assosciated with the max value of 'Total_Column' column\n",
    "best_country=data_1.loc[data_1['Total_Points'].idxmax(),'Country_Name']\n",
    "print('The maximum points achieved is ', most_points, ' by ', best_country )\n"
   ]
  },
  {
   "cell_type": "code",
   "execution_count": 4,
   "metadata": {},
   "outputs": [
    {
     "data": {
      "image/png": "[encoded data removed]",
      "text/plain": [
       "<Figure size 432x288 with 1 Axes>"
      ]
     },
     "metadata": {
      "needs_background": "light"
     },
     "output_type": "display_data"
    }
   ],
   "source": [
    "# Plot for the best\n",
    "\n",
    "#Subsetting the dataframe\n",
    "best=data[data['Country_Name']==best_country]\n",
    "best.reset_index(drop = True, inplace = True)\n",
    "best=best[['Gold_Total','Silver_Total','Bronze_Total']]\n",
    "\n",
    "\n",
    "#Plotting bar plot\n",
    "best.plot.bar(stacked=True)\n",
    "\n",
    "#Changing the x-axis label\n",
    "plt.xlabel('United States')\n",
    "\n",
    "#Changing the y-axis label\n",
    "plt.ylabel('Medals Tally')\n",
    "\n",
    "#Rotating the ticks of X-axis\n",
    "plt.xticks(rotation=45)\n",
    "\n",
    "#Updating the graph legend\n",
    "l=plt.legend()\n",
    "l.get_texts()[0].set_text('Gold_Total :' + str(best['Gold_Total'].values))\n",
    "l.get_texts()[1].set_text('Silver_Total :' + str(best['Silver_Total'].values))\n",
    "l.get_texts()[2].set_text('Bronze_Total :' + str(best['Bronze_Total'].values))\n"
   ]
  },
  {
   "cell_type": "code",
   "execution_count": null,
   "metadata": {},
   "outputs": [],
   "source": []
  }
 ],
 "metadata": {
  "kernelspec": {
   "display_name": "Python 3",
   "language": "python",
   "name": "python3"
  },
  "language_info": {
   "codemirror_mode": {
    "name": "ipython",
    "version": 3
   },
   "file_extension": ".py",
   "mimetype": "text/x-python",
   "name": "python",
   "nbconvert_exporter": "python",
   "pygments_lexer": "ipython3",
   "version": "3.8.5"
  }
 },
 "nbformat": 4,
 "nbformat_minor": 4
}
